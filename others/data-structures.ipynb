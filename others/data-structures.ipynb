{
 "cells": [
  {
   "cell_type": "markdown",
   "metadata": {},
   "source": [
    "#### Dicts."
   ]
  },
  {
   "cell_type": "markdown",
   "metadata": {},
   "source": [
    "english = [\"one\", \"two\", \"three\"]\n",
    "spanish = [\"uno\", \"dos\", \"tres\"]"
   ]
  },
  {
   "cell_type": "code",
   "execution_count": 1,
   "metadata": {},
   "outputs": [],
   "source": [
    "english = [\"one\", \"two\", \"three\"]\n",
    "spanish = [\"uno\", \"dos\", \"tres\"]"
   ]
  },
  {
   "cell_type": "markdown",
   "metadata": {},
   "source": []
  },
  {
   "cell_type": "code",
   "execution_count": 2,
   "metadata": {},
   "outputs": [
    {
     "data": {
      "text/plain": [
       "1"
      ]
     },
     "execution_count": 2,
     "metadata": {},
     "output_type": "execute_result"
    }
   ],
   "source": [
    "english.index(\"two\")"
   ]
  },
  {
   "cell_type": "code",
   "execution_count": 3,
   "metadata": {},
   "outputs": [
    {
     "data": {
      "text/plain": [
       "'tres'"
      ]
     },
     "execution_count": 3,
     "metadata": {},
     "output_type": "execute_result"
    }
   ],
   "source": [
    "spanish[english.index(\"three\")]"
   ]
  },
  {
   "cell_type": "code",
   "execution_count": 4,
   "metadata": {},
   "outputs": [
    {
     "data": {
      "text/plain": [
       "'dos'"
      ]
     },
     "execution_count": 4,
     "metadata": {},
     "output_type": "execute_result"
    }
   ],
   "source": [
    "from bisect import bisect_left\n",
    "lookup = [en for en, es in sorted(zip(english, spanish))]\n",
    "value = [es for en, es in sorted(zip(english, spanish))]\n",
    "\n",
    "key = \"two\"\n",
    "value[bisect_left(lookup, key)]"
   ]
  },
  {
   "cell_type": "code",
   "execution_count": null,
   "metadata": {},
   "outputs": [],
   "source": [
    "from numpy import array, linspace\n",
    "from numpy.random import choice, shuffle\n",
    "from string import ascii_lowercase\n",
    "from bisect import bisect_left\n",
    "import timeit\n",
    "\n",
    "MAX_SIZE = 10 ** 5\n",
    "\n",
    "letters = array([c for c in ascii_lowercase])\n",
    "words = choice(letters, size=(MAX_SIZE, 10))\n",
    "words = array([\"\".join(w) for w in words])\n",
    "\n",
    "ns = linspace(1, MAX_SIZE, 500, dtype=int)\n",
    "list_times = []\n",
    "dict_times = []\n",
    "bisect_times = []\n",
    "\n",
    "for n in ns:\n",
    "    shuffle(words)\n",
    "\n",
    "    sample_list = list(words[:n])\n",
    "    sample_dict = dict.fromkeys(sample_list)\n",
    "    sample_bisect = sorted(sample_list)\n",
    "\n",
    "    lookup_words = choice(sample_list, size=10)\n",
    "\n",
    "    list_time = %timeit  -o [sample_list.index(w) for w in lookup_words]\n",
    "    dict_time = %timeit -o [sample_dict[w] for w in lookup_words]\n",
    "    bisect_time = %timeit -o [bisect_left(sample_bisect, w) for w in lookup_words]\n",
    "\n",
    "    list_times.append(list_time.best)\n",
    "    dict_times.append(dict_time.best)\n",
    "    bisect_times.append(bisect_time.best)\n",
    "#print(\"list items\", list_times)\n",
    "#print(\"Dict items\", dict_times)\n",
    "#print(\"Bisect items\", bisect_times)\n"
   ]
  },
  {
   "cell_type": "code",
   "execution_count": null,
   "metadata": {},
   "outputs": [],
   "source": [
    "%matplotlib inline"
   ]
  },
  {
   "cell_type": "code",
   "execution_count": null,
   "metadata": {},
   "outputs": [],
   "source": [
    "from matplotlib.pyplot import figure,plot, title, legend, ylabel, xlabel, show\n",
    "fig = figure(figsize=(12, 8))\n",
    "\n",
    "plot(ns, list_times, \"bo\", label = u\"list lookup ~ 0(n)\")\n",
    "plot(ns, dict_times, \"go\", label = u\"dict lookup ~ 0(1)\")\n",
    "plot(ns, bisect_times, \"ro\", label = u\"bisect lookup ~ 0(log(n)\")\n",
    "\n",
    "title(\"List vs dict vs bisect (binary search) lookup\")\n",
    "legend(loc=\"best\")\n",
    "xlabel(\"input size (elements)\", figsize=fig)\n",
    "ylabel(\"best time out of 3 (s)\", figsize=fig)\n",
    "show()"
   ]
  },
  {
   "cell_type": "code",
   "execution_count": null,
   "metadata": {},
   "outputs": [],
   "source": []
  }
 ],
 "metadata": {
  "kernelspec": {
   "display_name": "Python 3 (ipykernel)",
   "language": "python",
   "name": "python3"
  },
  "language_info": {
   "codemirror_mode": {
    "name": "ipython",
    "version": 3
   },
   "file_extension": ".py",
   "mimetype": "text/x-python",
   "name": "python",
   "nbconvert_exporter": "python",
   "pygments_lexer": "ipython3",
   "version": "3.12.2"
  }
 },
 "nbformat": 4,
 "nbformat_minor": 4
}
